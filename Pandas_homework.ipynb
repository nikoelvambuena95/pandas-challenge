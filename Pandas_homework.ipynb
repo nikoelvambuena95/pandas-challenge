{
 "cells": [
  {
   "cell_type": "code",
   "execution_count": 1,
   "metadata": {},
   "outputs": [],
   "source": [
    "import pandas as pd\n",
    "\n",
    "purchase_data_file = \"purchase_data.csv\"\n",
    "purchase_data = pd.read_csv(purchase_data_file)"
   ]
  },
  {
   "cell_type": "code",
   "execution_count": 48,
   "metadata": {},
   "outputs": [
    {
     "data": {
      "text/html": [
       "<div>\n",
       "<style scoped>\n",
       "    .dataframe tbody tr th:only-of-type {\n",
       "        vertical-align: middle;\n",
       "    }\n",
       "\n",
       "    .dataframe tbody tr th {\n",
       "        vertical-align: top;\n",
       "    }\n",
       "\n",
       "    .dataframe thead th {\n",
       "        text-align: right;\n",
       "    }\n",
       "</style>\n",
       "<table border=\"1\" class=\"dataframe\">\n",
       "  <thead>\n",
       "    <tr style=\"text-align: right;\">\n",
       "      <th></th>\n",
       "      <th>Purchase ID</th>\n",
       "      <th>SN</th>\n",
       "      <th>Age</th>\n",
       "      <th>Gender</th>\n",
       "      <th>Item ID</th>\n",
       "      <th>Item Name</th>\n",
       "      <th>Price</th>\n",
       "      <th>Player Ages</th>\n",
       "    </tr>\n",
       "  </thead>\n",
       "  <tbody>\n",
       "    <tr>\n",
       "      <th>0</th>\n",
       "      <td>0</td>\n",
       "      <td>Lisim78</td>\n",
       "      <td>20</td>\n",
       "      <td>Male</td>\n",
       "      <td>108</td>\n",
       "      <td>Extraction, Quickblade Of Trembling Hands</td>\n",
       "      <td>3.53</td>\n",
       "      <td>20-24</td>\n",
       "    </tr>\n",
       "    <tr>\n",
       "      <th>1</th>\n",
       "      <td>1</td>\n",
       "      <td>Lisovynya38</td>\n",
       "      <td>40</td>\n",
       "      <td>Male</td>\n",
       "      <td>143</td>\n",
       "      <td>Frenzied Scimitar</td>\n",
       "      <td>1.56</td>\n",
       "      <td>40+</td>\n",
       "    </tr>\n",
       "    <tr>\n",
       "      <th>2</th>\n",
       "      <td>2</td>\n",
       "      <td>Ithergue48</td>\n",
       "      <td>24</td>\n",
       "      <td>Male</td>\n",
       "      <td>92</td>\n",
       "      <td>Final Critic</td>\n",
       "      <td>4.88</td>\n",
       "      <td>20-24</td>\n",
       "    </tr>\n",
       "    <tr>\n",
       "      <th>3</th>\n",
       "      <td>3</td>\n",
       "      <td>Chamassasya86</td>\n",
       "      <td>24</td>\n",
       "      <td>Male</td>\n",
       "      <td>100</td>\n",
       "      <td>Blindscythe</td>\n",
       "      <td>3.27</td>\n",
       "      <td>20-24</td>\n",
       "    </tr>\n",
       "    <tr>\n",
       "      <th>4</th>\n",
       "      <td>4</td>\n",
       "      <td>Iskosia90</td>\n",
       "      <td>23</td>\n",
       "      <td>Male</td>\n",
       "      <td>131</td>\n",
       "      <td>Fury</td>\n",
       "      <td>1.44</td>\n",
       "      <td>20-24</td>\n",
       "    </tr>\n",
       "    <tr>\n",
       "      <th>5</th>\n",
       "      <td>5</td>\n",
       "      <td>Yalae81</td>\n",
       "      <td>22</td>\n",
       "      <td>Male</td>\n",
       "      <td>81</td>\n",
       "      <td>Dreamkiss</td>\n",
       "      <td>3.61</td>\n",
       "      <td>20-24</td>\n",
       "    </tr>\n",
       "    <tr>\n",
       "      <th>6</th>\n",
       "      <td>6</td>\n",
       "      <td>Itheria73</td>\n",
       "      <td>36</td>\n",
       "      <td>Male</td>\n",
       "      <td>169</td>\n",
       "      <td>Interrogator, Blood Blade of the Queen</td>\n",
       "      <td>2.18</td>\n",
       "      <td>35-39</td>\n",
       "    </tr>\n",
       "    <tr>\n",
       "      <th>7</th>\n",
       "      <td>7</td>\n",
       "      <td>Iskjaskst81</td>\n",
       "      <td>20</td>\n",
       "      <td>Male</td>\n",
       "      <td>162</td>\n",
       "      <td>Abyssal Shard</td>\n",
       "      <td>2.67</td>\n",
       "      <td>20-24</td>\n",
       "    </tr>\n",
       "    <tr>\n",
       "      <th>8</th>\n",
       "      <td>8</td>\n",
       "      <td>Undjask33</td>\n",
       "      <td>22</td>\n",
       "      <td>Male</td>\n",
       "      <td>21</td>\n",
       "      <td>Souleater</td>\n",
       "      <td>1.10</td>\n",
       "      <td>20-24</td>\n",
       "    </tr>\n",
       "    <tr>\n",
       "      <th>9</th>\n",
       "      <td>9</td>\n",
       "      <td>Chanosian48</td>\n",
       "      <td>35</td>\n",
       "      <td>Other / Non-Disclosed</td>\n",
       "      <td>136</td>\n",
       "      <td>Ghastly Adamantite Protector</td>\n",
       "      <td>3.58</td>\n",
       "      <td>35-39</td>\n",
       "    </tr>\n",
       "  </tbody>\n",
       "</table>\n",
       "</div>"
      ],
      "text/plain": [
       "   Purchase ID             SN  Age                 Gender  Item ID  \\\n",
       "0            0        Lisim78   20                   Male      108   \n",
       "1            1    Lisovynya38   40                   Male      143   \n",
       "2            2     Ithergue48   24                   Male       92   \n",
       "3            3  Chamassasya86   24                   Male      100   \n",
       "4            4      Iskosia90   23                   Male      131   \n",
       "5            5        Yalae81   22                   Male       81   \n",
       "6            6      Itheria73   36                   Male      169   \n",
       "7            7    Iskjaskst81   20                   Male      162   \n",
       "8            8      Undjask33   22                   Male       21   \n",
       "9            9    Chanosian48   35  Other / Non-Disclosed      136   \n",
       "\n",
       "                                   Item Name  Price Player Ages  \n",
       "0  Extraction, Quickblade Of Trembling Hands   3.53       20-24  \n",
       "1                          Frenzied Scimitar   1.56         40+  \n",
       "2                               Final Critic   4.88       20-24  \n",
       "3                                Blindscythe   3.27       20-24  \n",
       "4                                       Fury   1.44       20-24  \n",
       "5                                  Dreamkiss   3.61       20-24  \n",
       "6     Interrogator, Blood Blade of the Queen   2.18       35-39  \n",
       "7                              Abyssal Shard   2.67       20-24  \n",
       "8                                  Souleater   1.10       20-24  \n",
       "9               Ghastly Adamantite Protector   3.58       35-39  "
      ]
     },
     "execution_count": 48,
     "metadata": {},
     "output_type": "execute_result"
    }
   ],
   "source": [
    "#Create a dataframe (purchase_data_df)\n",
    "purchase_data_df = pd.DataFrame(purchase_data)\n",
    "purchase_data_df.head(10)"
   ]
  },
  {
   "cell_type": "code",
   "execution_count": 49,
   "metadata": {},
   "outputs": [
    {
     "data": {
      "text/html": [
       "<div>\n",
       "<style scoped>\n",
       "    .dataframe tbody tr th:only-of-type {\n",
       "        vertical-align: middle;\n",
       "    }\n",
       "\n",
       "    .dataframe tbody tr th {\n",
       "        vertical-align: top;\n",
       "    }\n",
       "\n",
       "    .dataframe thead th {\n",
       "        text-align: right;\n",
       "    }\n",
       "</style>\n",
       "<table border=\"1\" class=\"dataframe\">\n",
       "  <thead>\n",
       "    <tr style=\"text-align: right;\">\n",
       "      <th></th>\n",
       "      <th>Total Players</th>\n",
       "    </tr>\n",
       "  </thead>\n",
       "  <tbody>\n",
       "    <tr>\n",
       "      <th>0</th>\n",
       "      <td>576</td>\n",
       "    </tr>\n",
       "  </tbody>\n",
       "</table>\n",
       "</div>"
      ],
      "text/plain": [
       "   Total Players\n",
       "0            576"
      ]
     },
     "execution_count": 49,
     "metadata": {},
     "output_type": "execute_result"
    }
   ],
   "source": [
    "##'Player Count' data frame\n",
    "#Total number of players - Players made more than one purchase = duplicates values \n",
    "total_players = len(purchase_data_df['SN'].unique())\n",
    "total_players_df = pd.DataFrame ([{'Total Players':total_players}])\n",
    "total_players_df"
   ]
  },
  {
   "cell_type": "code",
   "execution_count": 50,
   "metadata": {},
   "outputs": [],
   "source": [
    "#Total number of unique items - Items purchased more than one time = duplicate values\n",
    "total_items = len(purchase_data_df['Item Name'].unique())"
   ]
  },
  {
   "cell_type": "code",
   "execution_count": 51,
   "metadata": {},
   "outputs": [],
   "source": [
    "#Total number of purchases = row length of dataframe\n",
    "total_purchases = len(purchase_data_df)"
   ]
  },
  {
   "cell_type": "code",
   "execution_count": 52,
   "metadata": {},
   "outputs": [],
   "source": [
    "#Total revenue = Sum of 'Price' column \n",
    "total_revenue = purchase_data_df['Price'].sum()"
   ]
  },
  {
   "cell_type": "code",
   "execution_count": 53,
   "metadata": {},
   "outputs": [],
   "source": [
    "#Average price paid = mean of 'Price' column\n",
    "average_price = purchase_data_df['Price'].mean()"
   ]
  },
  {
   "cell_type": "code",
   "execution_count": 54,
   "metadata": {},
   "outputs": [
    {
     "data": {
      "text/html": [
       "<div>\n",
       "<style scoped>\n",
       "    .dataframe tbody tr th:only-of-type {\n",
       "        vertical-align: middle;\n",
       "    }\n",
       "\n",
       "    .dataframe tbody tr th {\n",
       "        vertical-align: top;\n",
       "    }\n",
       "\n",
       "    .dataframe thead th {\n",
       "        text-align: right;\n",
       "    }\n",
       "</style>\n",
       "<table border=\"1\" class=\"dataframe\">\n",
       "  <thead>\n",
       "    <tr style=\"text-align: right;\">\n",
       "      <th></th>\n",
       "      <th>Number of Unique Items</th>\n",
       "      <th>Average Price</th>\n",
       "      <th>Number of Purchases</th>\n",
       "      <th>Total Revenue</th>\n",
       "    </tr>\n",
       "  </thead>\n",
       "  <tbody>\n",
       "    <tr>\n",
       "      <th>0</th>\n",
       "      <td>179</td>\n",
       "      <td>$3.05</td>\n",
       "      <td>780</td>\n",
       "      <td>$2,379.77</td>\n",
       "    </tr>\n",
       "  </tbody>\n",
       "</table>\n",
       "</div>"
      ],
      "text/plain": [
       "   Number of Unique Items Average Price  Number of Purchases Total Revenue\n",
       "0                     179         $3.05                  780     $2,379.77"
      ]
     },
     "execution_count": 54,
     "metadata": {},
     "output_type": "execute_result"
    }
   ],
   "source": [
    "##'Purchasing Analysis (Total) data frame'\n",
    "purchasing_analysis_total_df = pd.DataFrame([{\n",
    "    'Number of Unique Items':total_items,\n",
    "'Average Price':average_price,\n",
    "'Number of Purchases':total_purchases,\n",
    "'Total Revenue':total_revenue}])\n",
    "\n",
    "#format 'Average Price' and 'Total Revenue' values to currency\n",
    "purchasing_analysis_total_df['Average Price'] = purchasing_analysis_total_df['Average Price'].map(\"${0:,.2f}\".format)\n",
    "purchasing_analysis_total_df['Total Revenue'] = purchasing_analysis_total_df['Total Revenue'].map(\"${0:,.2f}\".format)\n",
    "purchasing_analysis_total_df"
   ]
  },
  {
   "cell_type": "code",
   "execution_count": 7,
   "metadata": {},
   "outputs": [
    {
     "data": {
      "text/plain": [
       "array(['Male', 'Other / Non-Disclosed', 'Female'], dtype=object)"
      ]
     },
     "execution_count": 7,
     "metadata": {},
     "output_type": "execute_result"
    }
   ],
   "source": [
    "#Unique values in 'Gender' column\n",
    "unique_gender_values = purchase_data_df['Gender'].unique()\n",
    "unique_gender_values"
   ]
  },
  {
   "cell_type": "code",
   "execution_count": 8,
   "metadata": {
    "scrolled": true
   },
   "outputs": [
    {
     "name": "stdout",
     "output_type": "stream",
     "text": [
      "                SN  Gender\n",
      "0          Lisim78    Male\n",
      "1      Lisovynya38    Male\n",
      "2       Ithergue48    Male\n",
      "3    Chamassasya86    Male\n",
      "4        Iskosia90    Male\n",
      "..             ...     ...\n",
      "773         Hala31    Male\n",
      "774     Jiskjask80    Male\n",
      "775     Aethedru70  Female\n",
      "777     Yathecal72    Male\n",
      "778        Sisur91    Male\n",
      "\n",
      "[576 rows x 2 columns]\n"
     ]
    }
   ],
   "source": [
    "##'Gender Demogrpahics' data frame\n",
    "#Create a data frame ('gender_df') of only 'SN' (players) and 'Gender'\n",
    "gender_df = purchase_data_df[['SN','Gender']]\n",
    "gender_df['Gender'].astype('string')\n",
    "\n",
    "#Removed duplicate values from dataframe 'gender_df'\n",
    "gender_df = gender_df.drop_duplicates()\n",
    "\n",
    "#Rename value 'Other / Non-Disclosed' to 'Other'\n",
    "gender_df = gender_df.replace({\"Other / Non-Disclosed\": \"Other\"})\n",
    "print(gender_df)"
   ]
  },
  {
   "cell_type": "code",
   "execution_count": 9,
   "metadata": {},
   "outputs": [
    {
     "name": "stdout",
     "output_type": "stream",
     "text": [
      "484\n"
     ]
    }
   ],
   "source": [
    "#Create a data frame of just 'Male' values by filtering out 'gender_df' by 'Male' \n",
    "columns = ['SN', 'Gender']\n",
    "male_df = gender_df.loc[gender_df['Gender'] == \"Male\", columns]\n",
    "\n",
    "#total number of male players by counting length of 'Male' dataframe \n",
    "total_male = len(male_df)\n",
    "print(total_male)"
   ]
  },
  {
   "cell_type": "code",
   "execution_count": 10,
   "metadata": {},
   "outputs": [
    {
     "name": "stdout",
     "output_type": "stream",
     "text": [
      "81\n"
     ]
    }
   ],
   "source": [
    "#Create a data frame of just 'Female' values by filtering out 'gender_df' by 'Female' \n",
    "columns = ['SN', 'Gender']\n",
    "female_df = gender_df.loc[gender_df['Gender'] == \"Female\", columns]\n",
    "\n",
    "#total number of male players by counting length of 'Female' dataframe \n",
    "total_female = len(female_df)\n",
    "print(total_female)"
   ]
  },
  {
   "cell_type": "code",
   "execution_count": 11,
   "metadata": {},
   "outputs": [
    {
     "name": "stdout",
     "output_type": "stream",
     "text": [
      "11\n"
     ]
    }
   ],
   "source": [
    "#Create a data frame of just 'Other' values by filtering out 'gender_df' by 'Other' \n",
    "columns = ['SN', 'Gender']\n",
    "other_df = gender_df.loc[gender_df['Gender'] == \"Other\", columns]\n",
    "\n",
    "#total number of male players by counting length of 'Other' dataframe \n",
    "total_other = len(other_df)\n",
    "print(total_other)"
   ]
  },
  {
   "cell_type": "code",
   "execution_count": 12,
   "metadata": {},
   "outputs": [
    {
     "name": "stdout",
     "output_type": "stream",
     "text": [
      "0.8402777777777778\n",
      "0.140625\n",
      "0.019097222222222224\n"
     ]
    }
   ],
   "source": [
    "#Percentages of player demographics\n",
    "percent_male = total_male / total_players\n",
    "percent_female = total_female / total_players\n",
    "percent_other = total_other / total_players\n",
    "print(percent_male)\n",
    "print(percent_female)\n",
    "print(percent_other)"
   ]
  },
  {
   "cell_type": "code",
   "execution_count": 62,
   "metadata": {},
   "outputs": [
    {
     "ename": "TypeError",
     "evalue": "'method' object is not subscriptable",
     "output_type": "error",
     "traceback": [
      "\u001b[1;31m---------------------------------------------------------------------------\u001b[0m",
      "\u001b[1;31mTypeError\u001b[0m                                 Traceback (most recent call last)",
      "\u001b[1;32m<ipython-input-62-bcb4befc791f>\u001b[0m in \u001b[0;36m<module>\u001b[1;34m\u001b[0m\n\u001b[0;32m      3\u001b[0m                              'Percentage of Players':[percent_male, percent_female, percent_other]})\n\u001b[0;32m      4\u001b[0m \u001b[0mgender_dem_df\u001b[0m\u001b[1;33m[\u001b[0m\u001b[1;34m'Percentage of Players'\u001b[0m\u001b[1;33m]\u001b[0m \u001b[1;33m=\u001b[0m \u001b[0mgender_dem_df\u001b[0m\u001b[1;33m[\u001b[0m\u001b[1;34m'Percentage of Players'\u001b[0m\u001b[1;33m]\u001b[0m\u001b[1;33m.\u001b[0m\u001b[0mmap\u001b[0m\u001b[1;33m(\u001b[0m\u001b[1;34m\"{:.2%}\"\u001b[0m\u001b[1;33m.\u001b[0m\u001b[0mformat\u001b[0m\u001b[1;33m)\u001b[0m\u001b[1;33m\u001b[0m\u001b[1;33m\u001b[0m\u001b[0m\n\u001b[1;32m----> 5\u001b[1;33m \u001b[0mgender_dem_df\u001b[0m \u001b[1;33m=\u001b[0m \u001b[0mgender_dem_df\u001b[0m\u001b[1;33m.\u001b[0m\u001b[0mset_index\u001b[0m\u001b[1;33m[\u001b[0m\u001b[1;34m'Gender'\u001b[0m\u001b[1;33m]\u001b[0m\u001b[1;33m\u001b[0m\u001b[1;33m\u001b[0m\u001b[0m\n\u001b[0m\u001b[0;32m      6\u001b[0m \u001b[0mgender_dem_df\u001b[0m\u001b[1;33m\u001b[0m\u001b[1;33m\u001b[0m\u001b[0m\n",
      "\u001b[1;31mTypeError\u001b[0m: 'method' object is not subscriptable"
     ]
    }
   ],
   "source": [
    "gender_dem_df = pd.DataFrame({'Gender':['Male','Female','Other/Non-Disclosed'],\n",
    "                              'Total Count':[total_male, total_female, total_other],\n",
    "                             'Percentage of Players':[percent_male, percent_female, percent_other]})\n",
    "gender_dem_df['Percentage of Players'] = gender_dem_df['Percentage of Players'].map(\"{:.2%}\".format)\n",
    "gender_dem_df = gender_dem_df.set_index['Gender')\n",
    "gender_dem_df"
   ]
  },
  {
   "cell_type": "code",
   "execution_count": 13,
   "metadata": {},
   "outputs": [
    {
     "data": {
      "text/html": [
       "<div>\n",
       "<style scoped>\n",
       "    .dataframe tbody tr th:only-of-type {\n",
       "        vertical-align: middle;\n",
       "    }\n",
       "\n",
       "    .dataframe tbody tr th {\n",
       "        vertical-align: top;\n",
       "    }\n",
       "\n",
       "    .dataframe thead th {\n",
       "        text-align: right;\n",
       "    }\n",
       "</style>\n",
       "<table border=\"1\" class=\"dataframe\">\n",
       "  <thead>\n",
       "    <tr style=\"text-align: right;\">\n",
       "      <th></th>\n",
       "      <th>Price</th>\n",
       "    </tr>\n",
       "    <tr>\n",
       "      <th>Gender</th>\n",
       "      <th></th>\n",
       "    </tr>\n",
       "  </thead>\n",
       "  <tbody>\n",
       "    <tr>\n",
       "      <th>Male</th>\n",
       "      <td>3.53</td>\n",
       "    </tr>\n",
       "    <tr>\n",
       "      <th>Male</th>\n",
       "      <td>1.56</td>\n",
       "    </tr>\n",
       "    <tr>\n",
       "      <th>Male</th>\n",
       "      <td>4.88</td>\n",
       "    </tr>\n",
       "    <tr>\n",
       "      <th>Male</th>\n",
       "      <td>3.27</td>\n",
       "    </tr>\n",
       "    <tr>\n",
       "      <th>Male</th>\n",
       "      <td>1.44</td>\n",
       "    </tr>\n",
       "    <tr>\n",
       "      <th>...</th>\n",
       "      <td>...</td>\n",
       "    </tr>\n",
       "    <tr>\n",
       "      <th>Female</th>\n",
       "      <td>3.54</td>\n",
       "    </tr>\n",
       "    <tr>\n",
       "      <th>Male</th>\n",
       "      <td>1.63</td>\n",
       "    </tr>\n",
       "    <tr>\n",
       "      <th>Male</th>\n",
       "      <td>3.46</td>\n",
       "    </tr>\n",
       "    <tr>\n",
       "      <th>Male</th>\n",
       "      <td>4.19</td>\n",
       "    </tr>\n",
       "    <tr>\n",
       "      <th>Male</th>\n",
       "      <td>4.60</td>\n",
       "    </tr>\n",
       "  </tbody>\n",
       "</table>\n",
       "<p>780 rows × 1 columns</p>\n",
       "</div>"
      ],
      "text/plain": [
       "        Price\n",
       "Gender       \n",
       "Male     3.53\n",
       "Male     1.56\n",
       "Male     4.88\n",
       "Male     3.27\n",
       "Male     1.44\n",
       "...       ...\n",
       "Female   3.54\n",
       "Male     1.63\n",
       "Male     3.46\n",
       "Male     4.19\n",
       "Male     4.60\n",
       "\n",
       "[780 rows x 1 columns]"
      ]
     },
     "execution_count": 13,
     "metadata": {},
     "output_type": "execute_result"
    }
   ],
   "source": [
    "##'Purhcase Analysis (Gender)'\n",
    "#Create a data frame using 'purchase_data_df', set index to 'Gender', & only keep 'Price' values\n",
    "purchase_analysis_gender_df = purchase_data_df.set_index('Gender')\n",
    "price_analysis_gender_df = purchase_analysis_gender_df[['Price']]\n",
    "price_analysis_gender_df"
   ]
  },
  {
   "cell_type": "code",
   "execution_count": 14,
   "metadata": {},
   "outputs": [
    {
     "data": {
      "text/plain": [
       "Gender\n",
       "Female                     $361.94\n",
       "Male                     $1,967.64\n",
       "Other / Non-Disclosed       $50.19\n",
       "Name: Total Purchase Value, dtype: object"
      ]
     },
     "execution_count": 14,
     "metadata": {},
     "output_type": "execute_result"
    }
   ],
   "source": [
    "#create a 'Total Purchase Value' data frame\n",
    "purchase_analysis_gender_group = price_analysis_gender_df.groupby(['Gender'])\n",
    "purchase_analysis_gender_tpv_df = purchase_analysis_gender_group.sum()\n",
    "\n",
    "#rename 'Price' column to 'Total Purchase Value'\n",
    "purchase_analysis_gender_tpv_df=purchase_analysis_gender_tpv_df.rename(columns={\"Price\":\"Total Purchase Value\"})\n",
    "purchase_analysis_gender_tpv_df=purchase_analysis_gender_tpv_df['Total Purchase Value'].map(\"${0:,.2f}\".format)\n",
    "purchase_analysis_gender_tpv_df"
   ]
  },
  {
   "cell_type": "code",
   "execution_count": 15,
   "metadata": {},
   "outputs": [
    {
     "data": {
      "text/plain": [
       "Gender\n",
       "Female                   $3.20\n",
       "Male                     $3.02\n",
       "Other / Non-Disclosed    $3.35\n",
       "Name: Average Purchase Price, dtype: object"
      ]
     },
     "execution_count": 15,
     "metadata": {},
     "output_type": "execute_result"
    }
   ],
   "source": [
    "#create an 'Average Purhcase Price' data frame\n",
    "purchase_analysis_gender_avg_df = purchase_analysis_gender_group.mean()\n",
    "\n",
    "#rename 'Price' column to 'Average Purchase Price'\n",
    "purchase_analysis_gender_avg_df=purchase_analysis_gender_avg_df.rename(columns={\"Price\":\"Average Purchase Price\"})\n",
    "purchase_analysis_gender_avg_df=purchase_analysis_gender_avg_df['Average Purchase Price'].map(\"${:.2f}\".format)\n",
    "purchase_analysis_gender_avg_df"
   ]
  },
  {
   "cell_type": "code",
   "execution_count": 16,
   "metadata": {
    "scrolled": true
   },
   "outputs": [
    {
     "data": {
      "text/html": [
       "<div>\n",
       "<style scoped>\n",
       "    .dataframe tbody tr th:only-of-type {\n",
       "        vertical-align: middle;\n",
       "    }\n",
       "\n",
       "    .dataframe tbody tr th {\n",
       "        vertical-align: top;\n",
       "    }\n",
       "\n",
       "    .dataframe thead th {\n",
       "        text-align: right;\n",
       "    }\n",
       "</style>\n",
       "<table border=\"1\" class=\"dataframe\">\n",
       "  <thead>\n",
       "    <tr style=\"text-align: right;\">\n",
       "      <th></th>\n",
       "      <th>Total Count of Purchases</th>\n",
       "    </tr>\n",
       "    <tr>\n",
       "      <th>Gender</th>\n",
       "      <th></th>\n",
       "    </tr>\n",
       "  </thead>\n",
       "  <tbody>\n",
       "    <tr>\n",
       "      <th>Female</th>\n",
       "      <td>113</td>\n",
       "    </tr>\n",
       "    <tr>\n",
       "      <th>Male</th>\n",
       "      <td>652</td>\n",
       "    </tr>\n",
       "    <tr>\n",
       "      <th>Other / Non-Disclosed</th>\n",
       "      <td>15</td>\n",
       "    </tr>\n",
       "  </tbody>\n",
       "</table>\n",
       "</div>"
      ],
      "text/plain": [
       "                       Total Count of Purchases\n",
       "Gender                                         \n",
       "Female                                      113\n",
       "Male                                        652\n",
       "Other / Non-Disclosed                        15"
      ]
     },
     "execution_count": 16,
     "metadata": {},
     "output_type": "execute_result"
    }
   ],
   "source": [
    "#create a 'Total Count of Purchases' data frame\n",
    "purchase_analysis_gender_tcp_df = purchase_analysis_gender_group.count()\n",
    "\n",
    "#rename 'Price' column to 'Total Count of Purchases'\n",
    "purchase_analysis_gender_tcp_df=purchase_analysis_gender_tcp_df.rename(columns={\"Price\":\"Total Count of Purchases\"})\n",
    "purchase_analysis_gender_tcp_df"
   ]
  },
  {
   "cell_type": "code",
   "execution_count": 17,
   "metadata": {},
   "outputs": [],
   "source": [
    "## *skipped* create a 'Average Total Purchase Per Person' data frame\n",
    "#individual_purchase_gender_df = purchase_analysis_gender_df[['SN','Price']]\n",
    "#individual_purchase_gender_df "
   ]
  },
  {
   "cell_type": "code",
   "execution_count": 18,
   "metadata": {},
   "outputs": [
    {
     "data": {
      "text/html": [
       "<div>\n",
       "<style scoped>\n",
       "    .dataframe tbody tr th:only-of-type {\n",
       "        vertical-align: middle;\n",
       "    }\n",
       "\n",
       "    .dataframe tbody tr th {\n",
       "        vertical-align: top;\n",
       "    }\n",
       "\n",
       "    .dataframe thead th {\n",
       "        text-align: right;\n",
       "    }\n",
       "</style>\n",
       "<table border=\"1\" class=\"dataframe\">\n",
       "  <thead>\n",
       "    <tr style=\"text-align: right;\">\n",
       "      <th></th>\n",
       "      <th>Total Count of Purchases</th>\n",
       "      <th>Average Purchase Price</th>\n",
       "      <th>Total Purchase Value</th>\n",
       "    </tr>\n",
       "    <tr>\n",
       "      <th>Gender</th>\n",
       "      <th></th>\n",
       "      <th></th>\n",
       "      <th></th>\n",
       "    </tr>\n",
       "  </thead>\n",
       "  <tbody>\n",
       "    <tr>\n",
       "      <th>Female</th>\n",
       "      <td>113</td>\n",
       "      <td>$3.20</td>\n",
       "      <td>$361.94</td>\n",
       "    </tr>\n",
       "    <tr>\n",
       "      <th>Male</th>\n",
       "      <td>652</td>\n",
       "      <td>$3.02</td>\n",
       "      <td>$1,967.64</td>\n",
       "    </tr>\n",
       "    <tr>\n",
       "      <th>Other / Non-Disclosed</th>\n",
       "      <td>15</td>\n",
       "      <td>$3.35</td>\n",
       "      <td>$50.19</td>\n",
       "    </tr>\n",
       "  </tbody>\n",
       "</table>\n",
       "</div>"
      ],
      "text/plain": [
       "                       Total Count of Purchases Average Purchase Price  \\\n",
       "Gender                                                                   \n",
       "Female                                      113                  $3.20   \n",
       "Male                                        652                  $3.02   \n",
       "Other / Non-Disclosed                        15                  $3.35   \n",
       "\n",
       "                      Total Purchase Value  \n",
       "Gender                                      \n",
       "Female                             $361.94  \n",
       "Male                             $1,967.64  \n",
       "Other / Non-Disclosed               $50.19  "
      ]
     },
     "execution_count": 18,
     "metadata": {},
     "output_type": "execute_result"
    }
   ],
   "source": [
    "#add data frames 'Total Purchase Value', 'Average Purchase Price', 'Total Count of Purchases', & 'Average Total Purchase per Person' to 'Purchase Analysis (Gender)' data frame - i.e. ('purchase_analysis_gender_df')\n",
    "#original 'purchase_analysis_gender_df' data frame will be replaced\n",
    "purchase_analysis_gender_tcp_df['Average Purchase Price'] = purchase_analysis_gender_avg_df\n",
    "purchase_analysis_gender_tcp_df['Total Purchase Value'] = purchase_analysis_gender_tpv_df\n",
    "purchase_analysis_gender_df = purchase_analysis_gender_tcp_df\n",
    "purchase_analysis_gender_df\n"
   ]
  },
  {
   "cell_type": "code",
   "execution_count": 19,
   "metadata": {},
   "outputs": [
    {
     "data": {
      "text/html": [
       "<div>\n",
       "<style scoped>\n",
       "    .dataframe tbody tr th:only-of-type {\n",
       "        vertical-align: middle;\n",
       "    }\n",
       "\n",
       "    .dataframe tbody tr th {\n",
       "        vertical-align: top;\n",
       "    }\n",
       "\n",
       "    .dataframe thead th {\n",
       "        text-align: right;\n",
       "    }\n",
       "</style>\n",
       "<table border=\"1\" class=\"dataframe\">\n",
       "  <thead>\n",
       "    <tr style=\"text-align: right;\">\n",
       "      <th></th>\n",
       "      <th>Total Count</th>\n",
       "      <th>Percentage of Players</th>\n",
       "    </tr>\n",
       "    <tr>\n",
       "      <th>Player Ages</th>\n",
       "      <th></th>\n",
       "      <th></th>\n",
       "    </tr>\n",
       "  </thead>\n",
       "  <tbody>\n",
       "    <tr>\n",
       "      <th>&lt;10</th>\n",
       "      <td>17</td>\n",
       "      <td>2.95%</td>\n",
       "    </tr>\n",
       "    <tr>\n",
       "      <th>10-14</th>\n",
       "      <td>22</td>\n",
       "      <td>3.82%</td>\n",
       "    </tr>\n",
       "    <tr>\n",
       "      <th>15-19</th>\n",
       "      <td>107</td>\n",
       "      <td>18.58%</td>\n",
       "    </tr>\n",
       "    <tr>\n",
       "      <th>20-24</th>\n",
       "      <td>258</td>\n",
       "      <td>44.79%</td>\n",
       "    </tr>\n",
       "    <tr>\n",
       "      <th>25-29</th>\n",
       "      <td>77</td>\n",
       "      <td>13.37%</td>\n",
       "    </tr>\n",
       "    <tr>\n",
       "      <th>30-34</th>\n",
       "      <td>52</td>\n",
       "      <td>9.03%</td>\n",
       "    </tr>\n",
       "    <tr>\n",
       "      <th>35-39</th>\n",
       "      <td>31</td>\n",
       "      <td>5.38%</td>\n",
       "    </tr>\n",
       "    <tr>\n",
       "      <th>40+</th>\n",
       "      <td>12</td>\n",
       "      <td>2.08%</td>\n",
       "    </tr>\n",
       "  </tbody>\n",
       "</table>\n",
       "</div>"
      ],
      "text/plain": [
       "             Total Count Percentage of Players\n",
       "Player Ages                                   \n",
       "<10                   17                 2.95%\n",
       "10-14                 22                 3.82%\n",
       "15-19                107                18.58%\n",
       "20-24                258                44.79%\n",
       "25-29                 77                13.37%\n",
       "30-34                 52                 9.03%\n",
       "35-39                 31                 5.38%\n",
       "40+                   12                 2.08%"
      ]
     },
     "execution_count": 19,
     "metadata": {},
     "output_type": "execute_result"
    }
   ],
   "source": [
    "##'Age Demographics'\n",
    "#creat a data frame from 'purchase_data_df' of just 'Age' values\n",
    "purchase_age_raw_df = purchase_data_df[['SN','Age']]\n",
    "purchase_age_raw_df = purchase_age_raw_df.drop_duplicates()\n",
    "del purchase_age_raw_df['SN']\n",
    "\n",
    "#created bins and group names\n",
    "bins = [0, 9, 14, 19, 24 , 29, 34, 39, 60]\n",
    "group_names = ['<10', '10-14', '15-19', '20-24', '25-29', '30-34', '35-39', '40+']\n",
    "\n",
    "#cut 'purchase_age_raw_df & create data frame 'purchase_age_df'\n",
    "purchase_age_raw_df['Player Ages'] = pd.cut(purchase_age_raw_df['Age'], bins, labels=group_names, include_lowest=True)\n",
    "purchase_age_dem_df = purchase_age_raw_df.groupby('Player Ages')\n",
    "purchase_age_dem_df = purchase_age_dem_df.count()\n",
    "\n",
    "#create 'Percentage of Players' column and format values to percentage\n",
    "purchase_age_dem_df['Percentage of Players'] = (purchase_age_dem_df['Age']/total_players).map(\"{:.2%}\".format)\n",
    "\n",
    "#rename 'Age' column to 'Total Count'\n",
    "purchase_age_dem_df = purchase_age_dem_df.rename(columns={\"Age\":\"Total Count\"})\n",
    "purchase_age_dem_df"
   ]
  },
  {
   "cell_type": "code",
   "execution_count": 20,
   "metadata": {
    "scrolled": false
   },
   "outputs": [
    {
     "data": {
      "text/html": [
       "<div>\n",
       "<style scoped>\n",
       "    .dataframe tbody tr th:only-of-type {\n",
       "        vertical-align: middle;\n",
       "    }\n",
       "\n",
       "    .dataframe tbody tr th {\n",
       "        vertical-align: top;\n",
       "    }\n",
       "\n",
       "    .dataframe thead th {\n",
       "        text-align: right;\n",
       "    }\n",
       "</style>\n",
       "<table border=\"1\" class=\"dataframe\">\n",
       "  <thead>\n",
       "    <tr style=\"text-align: right;\">\n",
       "      <th></th>\n",
       "      <th>Price</th>\n",
       "    </tr>\n",
       "    <tr>\n",
       "      <th>Player Ages</th>\n",
       "      <th></th>\n",
       "    </tr>\n",
       "  </thead>\n",
       "  <tbody>\n",
       "    <tr>\n",
       "      <th>20-24</th>\n",
       "      <td>3.53</td>\n",
       "    </tr>\n",
       "    <tr>\n",
       "      <th>40+</th>\n",
       "      <td>1.56</td>\n",
       "    </tr>\n",
       "    <tr>\n",
       "      <th>20-24</th>\n",
       "      <td>4.88</td>\n",
       "    </tr>\n",
       "    <tr>\n",
       "      <th>20-24</th>\n",
       "      <td>3.27</td>\n",
       "    </tr>\n",
       "    <tr>\n",
       "      <th>20-24</th>\n",
       "      <td>1.44</td>\n",
       "    </tr>\n",
       "    <tr>\n",
       "      <th>...</th>\n",
       "      <td>...</td>\n",
       "    </tr>\n",
       "    <tr>\n",
       "      <th>20-24</th>\n",
       "      <td>3.54</td>\n",
       "    </tr>\n",
       "    <tr>\n",
       "      <th>20-24</th>\n",
       "      <td>1.63</td>\n",
       "    </tr>\n",
       "    <tr>\n",
       "      <th>20-24</th>\n",
       "      <td>3.46</td>\n",
       "    </tr>\n",
       "    <tr>\n",
       "      <th>&lt;10</th>\n",
       "      <td>4.19</td>\n",
       "    </tr>\n",
       "    <tr>\n",
       "      <th>20-24</th>\n",
       "      <td>4.60</td>\n",
       "    </tr>\n",
       "  </tbody>\n",
       "</table>\n",
       "<p>780 rows × 1 columns</p>\n",
       "</div>"
      ],
      "text/plain": [
       "             Price\n",
       "Player Ages       \n",
       "20-24         3.53\n",
       "40+           1.56\n",
       "20-24         4.88\n",
       "20-24         3.27\n",
       "20-24         1.44\n",
       "...            ...\n",
       "20-24         3.54\n",
       "20-24         1.63\n",
       "20-24         3.46\n",
       "<10           4.19\n",
       "20-24         4.60\n",
       "\n",
       "[780 rows x 1 columns]"
      ]
     },
     "execution_count": 20,
     "metadata": {},
     "output_type": "execute_result"
    }
   ],
   "source": [
    "##'Purchase Analysis (Age)'\n",
    "purchase_data_df['Player Ages'] = pd.cut(purchase_data_df['Age'], bins, labels=group_names, include_lowest=True)\n",
    "purchase_analysis_age_raw_df = purchase_data_df[['Player Ages','Price']]\n",
    "purchase_analysis_age_raw_df = purchase_analysis_age_raw_df.set_index('Player Ages')\n",
    "purchase_analysis_age_raw_df"
   ]
  },
  {
   "cell_type": "code",
   "execution_count": 21,
   "metadata": {},
   "outputs": [
    {
     "data": {
      "text/html": [
       "<div>\n",
       "<style scoped>\n",
       "    .dataframe tbody tr th:only-of-type {\n",
       "        vertical-align: middle;\n",
       "    }\n",
       "\n",
       "    .dataframe tbody tr th {\n",
       "        vertical-align: top;\n",
       "    }\n",
       "\n",
       "    .dataframe thead th {\n",
       "        text-align: right;\n",
       "    }\n",
       "</style>\n",
       "<table border=\"1\" class=\"dataframe\">\n",
       "  <thead>\n",
       "    <tr style=\"text-align: right;\">\n",
       "      <th></th>\n",
       "      <th>Total Purchase Count</th>\n",
       "    </tr>\n",
       "    <tr>\n",
       "      <th>Player Ages</th>\n",
       "      <th></th>\n",
       "    </tr>\n",
       "  </thead>\n",
       "  <tbody>\n",
       "    <tr>\n",
       "      <th>&lt;10</th>\n",
       "      <td>23</td>\n",
       "    </tr>\n",
       "    <tr>\n",
       "      <th>10-14</th>\n",
       "      <td>28</td>\n",
       "    </tr>\n",
       "    <tr>\n",
       "      <th>15-19</th>\n",
       "      <td>136</td>\n",
       "    </tr>\n",
       "    <tr>\n",
       "      <th>20-24</th>\n",
       "      <td>365</td>\n",
       "    </tr>\n",
       "    <tr>\n",
       "      <th>25-29</th>\n",
       "      <td>101</td>\n",
       "    </tr>\n",
       "    <tr>\n",
       "      <th>30-34</th>\n",
       "      <td>73</td>\n",
       "    </tr>\n",
       "    <tr>\n",
       "      <th>35-39</th>\n",
       "      <td>41</td>\n",
       "    </tr>\n",
       "    <tr>\n",
       "      <th>40+</th>\n",
       "      <td>13</td>\n",
       "    </tr>\n",
       "  </tbody>\n",
       "</table>\n",
       "</div>"
      ],
      "text/plain": [
       "             Total Purchase Count\n",
       "Player Ages                      \n",
       "<10                            23\n",
       "10-14                          28\n",
       "15-19                         136\n",
       "20-24                         365\n",
       "25-29                         101\n",
       "30-34                          73\n",
       "35-39                          41\n",
       "40+                            13"
      ]
     },
     "execution_count": 21,
     "metadata": {},
     "output_type": "execute_result"
    }
   ],
   "source": [
    "#create data frame 'Total Purchase Count' = groupby 'Player Ages' and sum column 'Price'\n",
    "purchase_analysis_age_df = purchase_analysis_age_raw_df.groupby(['Player Ages'])\n",
    "purchase_analysis_age_tpc_df = pd.DataFrame(purchase_analysis_age_df.count())\n",
    "\n",
    "#rename 'Price' column to 'Total Purchase Count'\n",
    "purchase_analysis_age_tpc_df = purchase_analysis_age_tpc_df.rename(columns={\"Price\":\"Total Purchase Count\"})\n",
    "purchase_analysis_age_tpc_df"
   ]
  },
  {
   "cell_type": "code",
   "execution_count": 22,
   "metadata": {},
   "outputs": [
    {
     "data": {
      "text/plain": [
       "Player Ages\n",
       "<10      $3.35\n",
       "10-14    $2.96\n",
       "15-19    $3.04\n",
       "20-24    $3.05\n",
       "25-29    $2.90\n",
       "30-34    $2.93\n",
       "35-39    $3.60\n",
       "40+      $2.94\n",
       "Name: Price, dtype: object"
      ]
     },
     "execution_count": 22,
     "metadata": {},
     "output_type": "execute_result"
    }
   ],
   "source": [
    "#create data frame 'Average Purchase Price' = groupby 'Player Ages' and sum column 'Price'\n",
    "purchase_analysis_age_avg_df = purchase_analysis_age_df.mean('Price')\n",
    "purchase_analysis_age_avg_df = purchase_analysis_age_avg_df['Price'].map(\"${0:,.2f}\".format)\n",
    "purchase_analysis_age_avg_df"
   ]
  },
  {
   "cell_type": "code",
   "execution_count": 23,
   "metadata": {},
   "outputs": [
    {
     "data": {
      "text/plain": [
       "Player Ages\n",
       "<10         $77.13\n",
       "10-14       $82.78\n",
       "15-19      $412.89\n",
       "20-24    $1,114.06\n",
       "25-29      $293.00\n",
       "30-34      $214.00\n",
       "35-39      $147.67\n",
       "40+         $38.24\n",
       "Name: Price, dtype: object"
      ]
     },
     "execution_count": 23,
     "metadata": {},
     "output_type": "execute_result"
    }
   ],
   "source": [
    "#create data frame 'Total Purchase Value' = groupby 'Player Ages' and sum column 'Price'\n",
    "purchase_analysis_age_tpv_df = purchase_analysis_age_df.sum('Price')\n",
    "purchase_analysis_age_tpv_df = purchase_analysis_age_tpv_df['Price'].map(\"${0:,.2f}\".format)\n",
    "purchase_analysis_age_tpv_df"
   ]
  },
  {
   "cell_type": "code",
   "execution_count": 24,
   "metadata": {},
   "outputs": [],
   "source": [
    "##*skipped create data frame \"Average Purchase Price\""
   ]
  },
  {
   "cell_type": "code",
   "execution_count": 25,
   "metadata": {},
   "outputs": [
    {
     "data": {
      "text/html": [
       "<div>\n",
       "<style scoped>\n",
       "    .dataframe tbody tr th:only-of-type {\n",
       "        vertical-align: middle;\n",
       "    }\n",
       "\n",
       "    .dataframe tbody tr th {\n",
       "        vertical-align: top;\n",
       "    }\n",
       "\n",
       "    .dataframe thead th {\n",
       "        text-align: right;\n",
       "    }\n",
       "</style>\n",
       "<table border=\"1\" class=\"dataframe\">\n",
       "  <thead>\n",
       "    <tr style=\"text-align: right;\">\n",
       "      <th></th>\n",
       "      <th>Total Purchase Count</th>\n",
       "      <th>Average Purchase Price</th>\n",
       "      <th>Total Purchase Value</th>\n",
       "    </tr>\n",
       "    <tr>\n",
       "      <th>Player Ages</th>\n",
       "      <th></th>\n",
       "      <th></th>\n",
       "      <th></th>\n",
       "    </tr>\n",
       "  </thead>\n",
       "  <tbody>\n",
       "    <tr>\n",
       "      <th>&lt;10</th>\n",
       "      <td>23</td>\n",
       "      <td>$3.35</td>\n",
       "      <td>$77.13</td>\n",
       "    </tr>\n",
       "    <tr>\n",
       "      <th>10-14</th>\n",
       "      <td>28</td>\n",
       "      <td>$2.96</td>\n",
       "      <td>$82.78</td>\n",
       "    </tr>\n",
       "    <tr>\n",
       "      <th>15-19</th>\n",
       "      <td>136</td>\n",
       "      <td>$3.04</td>\n",
       "      <td>$412.89</td>\n",
       "    </tr>\n",
       "    <tr>\n",
       "      <th>20-24</th>\n",
       "      <td>365</td>\n",
       "      <td>$3.05</td>\n",
       "      <td>$1,114.06</td>\n",
       "    </tr>\n",
       "    <tr>\n",
       "      <th>25-29</th>\n",
       "      <td>101</td>\n",
       "      <td>$2.90</td>\n",
       "      <td>$293.00</td>\n",
       "    </tr>\n",
       "    <tr>\n",
       "      <th>30-34</th>\n",
       "      <td>73</td>\n",
       "      <td>$2.93</td>\n",
       "      <td>$214.00</td>\n",
       "    </tr>\n",
       "    <tr>\n",
       "      <th>35-39</th>\n",
       "      <td>41</td>\n",
       "      <td>$3.60</td>\n",
       "      <td>$147.67</td>\n",
       "    </tr>\n",
       "    <tr>\n",
       "      <th>40+</th>\n",
       "      <td>13</td>\n",
       "      <td>$2.94</td>\n",
       "      <td>$38.24</td>\n",
       "    </tr>\n",
       "  </tbody>\n",
       "</table>\n",
       "</div>"
      ],
      "text/plain": [
       "             Total Purchase Count Average Purchase Price Total Purchase Value\n",
       "Player Ages                                                                  \n",
       "<10                            23                  $3.35               $77.13\n",
       "10-14                          28                  $2.96               $82.78\n",
       "15-19                         136                  $3.04              $412.89\n",
       "20-24                         365                  $3.05            $1,114.06\n",
       "25-29                         101                  $2.90              $293.00\n",
       "30-34                          73                  $2.93              $214.00\n",
       "35-39                          41                  $3.60              $147.67\n",
       "40+                            13                  $2.94               $38.24"
      ]
     },
     "execution_count": 25,
     "metadata": {},
     "output_type": "execute_result"
    }
   ],
   "source": [
    "#add 'Average Purchase Price' and 'Total Purchase Value' data frame to 'Total Purchase Count' to create 'Purchase Analysis (Age) data frame - i.e. purchase_analysis_age_df'\n",
    "purchase_analysis_age_tpc_df['Average Purchase Price'] = purchase_analysis_age_avg_df\n",
    "purchase_analysis_age_tpc_df['Total Purchase Value'] = purchase_analysis_age_tpv_df\n",
    "purchase_analysis_age_df = purchase_analysis_age_tpc_df\n",
    "purchase_analysis_age_df"
   ]
  },
  {
   "cell_type": "code",
   "execution_count": null,
   "metadata": {},
   "outputs": [],
   "source": []
  }
 ],
 "metadata": {
  "kernelspec": {
   "display_name": "Python 3",
   "language": "python",
   "name": "python3"
  },
  "language_info": {
   "codemirror_mode": {
    "name": "ipython",
    "version": 3
   },
   "file_extension": ".py",
   "mimetype": "text/x-python",
   "name": "python",
   "nbconvert_exporter": "python",
   "pygments_lexer": "ipython3",
   "version": "3.8.5"
  }
 },
 "nbformat": 4,
 "nbformat_minor": 4
}
